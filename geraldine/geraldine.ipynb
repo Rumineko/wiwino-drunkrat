{
 "cells": [
  {
   "cell_type": "code",
   "execution_count": 1,
   "metadata": {},
   "outputs": [],
   "source": [
    "import sqlite3\n",
    "\n",
    "db_file_path = \"../db/vivino.db\""
   ]
  },
  {
   "cell_type": "code",
   "execution_count": null,
   "metadata": {},
   "outputs": [],
   "source": [
    "def view_db(db_file):\n",
    "    # Connect to the database\n",
    "    conn = sqlite3.connect(db_file)\n",
    "    cursor = conn.cursor()\n",
    "\n",
    "    try:\n",
    "        cursor.execute(\"SELECT * FROM regions\")\n",
    "\n",
    "        columns = [description[0] for description in cursor.description]\n",
    "        print(\"Columns:\", columns)\n",
    "        \n",
    "        # Fetch all rows from the result set\n",
    "        rows = cursor.fetchall()\n",
    "\n",
    "        # Display the fetched data\n",
    "        for row in rows:\n",
    "            print(row)\n",
    "    except sqlite3.Error as e:\n",
    "        print(\"SQLite error:\", e)\n",
    "    finally:\n",
    "        # Close the connection\n",
    "        conn.close()\n"
   ]
  },
  {
   "cell_type": "code",
   "execution_count": null,
   "metadata": {},
   "outputs": [],
   "source": [
    "def count_names_by_country(db_file):\n",
    "    # Connect to the database\n",
    "    conn = sqlite3.connect(db_file)\n",
    "    cursor = conn.cursor()\n",
    "\n",
    "    try:\n",
    "        # Execute SQL query to count names by country code\n",
    "        cursor.execute(\"SELECT country_code, COUNT(name) FROM wines GROUP BY country_code\")\n",
    "\n",
    "        # Fetch all rows from the result set\n",
    "        rows = cursor.fetchall()\n",
    "\n",
    "        # Display the fetched data\n",
    "        for row in rows:\n",
    "            country_code, name_count = row\n",
    "            print(f\"Country Code: {country_code}, Number of Names: {name_count}\")\n",
    "    except sqlite3.Error as e:\n",
    "        print(\"SQLite error:\", e)\n",
    "    finally:\n",
    "        # Close the connection\n",
    "        conn.close()"
   ]
  },
  {
   "cell_type": "code",
   "execution_count": null,
   "metadata": {},
   "outputs": [],
   "source": [
    "def find_unique_region_ids(db_file):\n",
    "    # Connect to the database\n",
    "    conn = sqlite3.connect(db_file)\n",
    "    cursor = conn.cursor()\n",
    "\n",
    "    try:\n",
    "        # Find region IDs in wines table that are not in regions table\n",
    "        cursor.execute(\"\"\"\n",
    "            SELECT DISTINCT wines.region_id\n",
    "            FROM wines\n",
    "            LEFT JOIN regions ON wines.region_id = regions.id\n",
    "            WHERE regions.id IS NULL\n",
    "        \"\"\")\n",
    "        \n",
    "        wine_unique_region_ids = cursor.fetchall()\n",
    "\n",
    "        # Find region IDs in regions table that are not in wines table\n",
    "        cursor.execute(\"\"\"\n",
    "            SELECT DISTINCT regions.id\n",
    "            FROM regions\n",
    "            LEFT JOIN wines ON wines.region_id = regions.id\n",
    "            WHERE wines.region_id IS NULL\n",
    "        \"\"\")\n",
    "        \n",
    "        region_unique_region_ids = cursor.fetchall()\n",
    "\n",
    "        # Display the fetched data\n",
    "        if wine_unique_region_ids:\n",
    "            print(\"Region IDs in wines table not present in regions table:\")\n",
    "            for row in wine_unique_region_ids:\n",
    "                print(row[0])\n",
    "        else:\n",
    "            print(\"No unique region IDs found in wines table.\")\n",
    "\n",
    "        if region_unique_region_ids:\n",
    "            print(\"\\nRegion IDs in regions table not present in wines table:\")\n",
    "            for row in region_unique_region_ids:\n",
    "                print(row[0])\n",
    "        else:\n",
    "            print(\"\\nNo unique region IDs found in regions table.\")\n",
    "            \n",
    "    except sqlite3.Error as e:\n",
    "        print(\"SQLite error:\", e)\n",
    "    finally:\n",
    "        # Close the connection\n",
    "        conn.close()"
   ]
  },
  {
   "cell_type": "code",
   "execution_count": null,
   "metadata": {},
   "outputs": [],
   "source": [
    "def add_wine_regions_count_column(db_file):\n",
    "    # Connect to the database\n",
    "    conn = sqlite3.connect(db_file)\n",
    "    cursor = conn.cursor()\n",
    "\n",
    "    try:\n",
    "        # Execute SQL query to add the wine_regions_count column to countries table\n",
    "        cursor.execute(\"\"\"\n",
    "            ALTER TABLE countries\n",
    "            ADD COLUMN wine_regions_count INTEGER\n",
    "        \"\"\")\n",
    "\n",
    "        print(\"Added wine_regions_count column to countries table successfully.\")\n",
    "        \n",
    "        # Commit the transaction\n",
    "        conn.commit()\n",
    "            \n",
    "    except sqlite3.Error as e:\n",
    "        conn.rollback()  # Rollback changes if there's an error\n",
    "        print(\"SQLite error:\", e)\n",
    "    finally:\n",
    "        # Close the connection\n",
    "        conn.close()"
   ]
  },
  {
   "cell_type": "code",
   "execution_count": null,
   "metadata": {},
   "outputs": [],
   "source": [
    "def update_country_wine_regions_count(db_file):\n",
    "    # Connect to the database\n",
    "    conn = sqlite3.connect(db_file)\n",
    "    cursor = conn.cursor()\n",
    "\n",
    "    try:\n",
    "        # Execute SQL query to count the number of regions per country code\n",
    "        cursor.execute(\"\"\"\n",
    "            SELECT regions.country_code, COUNT(regions.id) AS wine_regions_count\n",
    "            FROM regions\n",
    "            GROUP BY regions.country_code\n",
    "        \"\"\")\n",
    "\n",
    "        # Fetch all rows from the result set\n",
    "        rows = cursor.fetchall()\n",
    "\n",
    "        # Update the countries table with the wine regions count\n",
    "        for row in rows:\n",
    "            country_code, wine_regions_count = row\n",
    "            cursor.execute(\"\"\"\n",
    "                UPDATE countries\n",
    "                SET wine_regions_count = ?\n",
    "                WHERE code = ?\n",
    "            \"\"\", (wine_regions_count, country_code))\n",
    "        \n",
    "        # Commit the transaction\n",
    "        conn.commit()\n",
    "        \n",
    "        print(\"Updated countries table with wine regions count successfully.\")\n",
    "            \n",
    "    except sqlite3.Error as e:\n",
    "        conn.rollback()  # Rollback changes if there's an error\n",
    "        print(\"SQLite error:\", e)\n",
    "    finally:\n",
    "        # Close the connection\n",
    "        conn.close()"
   ]
  },
  {
   "cell_type": "code",
   "execution_count": 37,
   "metadata": {},
   "outputs": [
    {
     "name": "stdout",
     "output_type": "stream",
     "text": [
      "Top 10 wineries with the highest ratings_average:\n",
      "1. Quintarelli Giuseppe : 4.8\n",
      "2. Scarecrow : 4.8\n",
      "3. Sierra Cantabria : 4.8\n",
      "4. Tenuta Hortense : 4.8\n",
      "5. Louis Roederer : 4.8\n",
      "6. Pierre Girardin : 4.8\n",
      "7. Colgin : 4.7\n",
      "8. Caymus : 4.7\n",
      "9. Vega Sicilia : 4.7\n",
      "10. Vega Sicilia : 4.7\n",
      "\n",
      "Top 10 wineries with the most ratings_count:\n",
      "1. Caymus : 157944\n",
      "2. Dom Pérignon : 146377\n",
      "3. Antinori : 142513\n",
      "4. Tenuta San Guido : 107646\n",
      "5. San Marzano : 94289\n",
      "6. Masi : 93397\n",
      "7. Stag's Leap Wine Cellars : 81351\n",
      "8. Tommasi : 77515\n",
      "9. Opus One Ove: 77053\n",
      "10. Château Mouton Rothschild : 73615\n"
     ]
    }
   ],
   "source": [
    "def get_top_wineries(db_file):\n",
    "    # Connect to the database\n",
    "    conn = sqlite3.connect(db_file)\n",
    "    cursor = conn.cursor()\n",
    "\n",
    "    try:\n",
    "        # Execute SQL query to get the top 10 wineries with the highest ratings_average\n",
    "        cursor.execute(\"\"\"\n",
    "            SELECT wineries.name, wines.ratings_average\n",
    "            FROM wines\n",
    "            JOIN wineries ON wines.winery_id = wineries.id\n",
    "            ORDER BY wines.ratings_average DESC\n",
    "            LIMIT 10\n",
    "        \"\"\")\n",
    "\n",
    "        # Fetch the results\n",
    "        top_ratings_average = cursor.fetchall()\n",
    "\n",
    "        # Execute SQL query to get the top 10 wineries with the most ratings_count\n",
    "        cursor.execute(\"\"\"\n",
    "            SELECT wineries.name, wines.ratings_count\n",
    "            FROM wines\n",
    "            JOIN wineries ON wines.winery_id = wineries.id\n",
    "            ORDER BY wines.ratings_count DESC\n",
    "            LIMIT 10\n",
    "        \"\"\")\n",
    "\n",
    "        # Fetch the results\n",
    "        top_ratings_count = cursor.fetchall()\n",
    "\n",
    "        print(\"Top 10 wineries with the highest ratings_average:\")\n",
    "        for i, (name, ratings_average) in enumerate(top_ratings_average, start=1):\n",
    "            print(f\"{i}. {name}: {ratings_average}\")\n",
    "\n",
    "        print(\"\\nTop 10 wineries with the most ratings_count:\")\n",
    "        for i, (name, ratings_count) in enumerate(top_ratings_count, start=1):\n",
    "            print(f\"{i}. {name}: {ratings_count}\")\n",
    "            \n",
    "    except sqlite3.Error as e:\n",
    "        print(\"SQLite error:\", e)\n",
    "    finally:\n",
    "        # Close the connection\n",
    "        conn.close()\n",
    "\n",
    "db_file_path = \"../db/vivino.db\"\n",
    "\n",
    "# Call the function to get the top 10 wineries\n",
    "get_top_wineries(db_file_path)\n"
   ]
  },
  {
   "cell_type": "code",
   "execution_count": 16,
   "metadata": {},
   "outputs": [
    {
     "name": "stdout",
     "output_type": "stream",
     "text": [
      "Winery: Masseto , Rank 1 Awards Count: 4\n",
      "Winery: Gaja , Rank 1 Awards Count: 4\n",
      "Winery: Château Rayas , Rank 1 Awards Count: 4\n",
      "Winery: La Grange des Pères , Rank 1 Awards Count: 3\n",
      "Winery: Charles Melton , Rank 1 Awards Count: 2\n",
      "Winery: Trimbach , Rank 1 Awards Count: 1\n",
      "Winery: Tommasi , Rank 1 Awards Count: 1\n",
      "Winery: Scarecrow , Rank 1 Awards Count: 1\n",
      "Winery: San Marzano , Rank 1 Awards Count: 1\n",
      "Winery: Salon , Rank 1 Awards Count: 1\n",
      "Winery: Pago de Carraovejas , Rank 1 Awards Count: 1\n",
      "Winery: Ornellaia , Rank 1 Awards Count: 1\n",
      "Winery: Guerrieri , Rank 1 Awards Count: 1\n",
      "Winery: Dal Forno Romano , Rank 1 Awards Count: 1\n",
      "Winery: Château des Tours , Rank 1 Awards Count: 1\n",
      "Winery: Château Margaux , Rank 1 Awards Count: 1\n",
      "Winery: Château Ducru-Beaucaillou , Rank 1 Awards Count: 1\n",
      "Winery: Burmester , Rank 1 Awards Count: 1\n",
      "Winery: Buena Vista , Rank 1 Awards Count: 1\n",
      "Winery: Bonneau du Martray , Rank 1 Awards Count: 1\n",
      "Winery: Bodegas Tradición Pedro Ximenez Tradición 20 Years Ol, Rank 1 Awards Count: 1\n",
      "Winery: Arzuaga , Rank 1 Awards Count: 1\n"
     ]
    }
   ],
   "source": [
    "def get_top_wineries_rank1_awards(db_file):\n",
    "    # Connect to the database\n",
    "    conn = sqlite3.connect(db_file)\n",
    "    cursor = conn.cursor()\n",
    "\n",
    "    try:\n",
    "        # Execute SQL query to count the number of rank 1 awards for each winery\n",
    "        cursor.execute(\"\"\"\n",
    "            SELECT wineries.name, COUNT(*) AS rank1_awards_count\n",
    "            FROM vintage_toplists_rankings\n",
    "            JOIN vintages ON vintage_toplists_rankings.vintage_id = vintages.id\n",
    "            JOIN wines ON vintages.wine_id = wines.id        \n",
    "            JOIN wineries ON wines.winery_id = wineries.id\n",
    "            WHERE vintage_toplists_rankings.rank = 1\n",
    "            GROUP BY wineries.name\n",
    "            ORDER BY rank1_awards_count DESC\n",
    "        \"\"\")\n",
    "\n",
    "        # Fetch the results\n",
    "        top_wineries_rank1_awards = cursor.fetchall()\n",
    "\n",
    "        # Display the fetched data\n",
    "        for row in top_wineries_rank1_awards:\n",
    "            print(f\"Winery: {row[0]}, Rank 1 Awards Count: {row[1]}\")\n",
    "            \n",
    "    except sqlite3.Error as e:\n",
    "        print(\"SQLite error:\", e)\n",
    "    finally:\n",
    "        # Close the connection\n",
    "        conn.close()\n",
    "\n",
    "\n",
    "db_file_path = \"../db/vivino.db\"\n",
    "\n",
    "# Call the function to get top wineries with the most rank 1 awards\n",
    "get_top_wineries_rank1_awards(db_file_path)\n"
   ]
  },
  {
   "cell_type": "code",
   "execution_count": 66,
   "metadata": {},
   "outputs": [
    {
     "name": "stdout",
     "output_type": "stream",
     "text": [
      "Winery: Masseto , Rank 1 Awards Count: 4, Awards Received:\n",
      "Vivino's 2020 Wine Style Awards: Tuscan Red\n",
      "Vivino's 2016 Wine Style Awards: Central Italy Red\n",
      "Vivino's 2017 Wine Style Awards: Central Italy Red\n",
      "Vivino's 2018 Wine Style Awards: Tuscan Red\n",
      "\n",
      "Winery: Gaja , Rank 1 Awards Count: 4, Awards Received:\n",
      "Vivino's 2016 Wine Style Awards: Italian Barbaresco\n",
      "Vivino's 2018 Wine Style Awards: Italian Barbaresco\n",
      "Vivino's 2018 Wine Style Awards: Italian Nebbiolo\n",
      "Vivino's 2016 Wine Style Awards: Northern Italy White\n",
      "\n",
      "Winery: Château Rayas , Rank 1 Awards Count: 4, Awards Received:\n",
      "Vivino's 2020 Wine Style Awards: Southern Rhône Châteauneuf-du-Pape Red\n",
      "Vivino's 2016 Wine Style Awards: Southern Rhône Red\n",
      "Vivino's 2017 Wine Style Awards: Southern Rhône Red\n",
      "Vivino's 2018 Wine Style Awards: Southern Rhône Châteauneuf-du-Pape Red\n",
      "\n"
     ]
    }
   ],
   "source": [
    "def get_top_wineries_rank1_awards_with_awards(db_file):\n",
    "    # Connect to the database\n",
    "    conn = sqlite3.connect(db_file)\n",
    "    cursor = conn.cursor()\n",
    "\n",
    "    try:\n",
    "        # Execute SQL query to select the top 3 wineries with the most rank 1 awards\n",
    "        cursor.execute(\"\"\"\n",
    "            SELECT wineries.name, COUNT(*) AS rank1_awards_count, GROUP_CONCAT(toplists.name) AS awards_received\n",
    "            FROM vintage_toplists_rankings\n",
    "            JOIN vintages ON vintage_toplists_rankings.vintage_id = vintages.id\n",
    "            JOIN wines ON vintages.wine_id = wines.id        \n",
    "            JOIN wineries ON wines.winery_id = wineries.id\n",
    "            JOIN toplists ON vintage_toplists_rankings.top_list_id = toplists.id\n",
    "            WHERE vintage_toplists_rankings.rank = 1\n",
    "            GROUP BY wineries.name\n",
    "            ORDER BY rank1_awards_count DESC\n",
    "            LIMIT 3\n",
    "        \"\"\")\n",
    "\n",
    "        # Fetch the results\n",
    "        top_wineries_rank1_awards_with_awards = cursor.fetchall()\n",
    "\n",
    "        # Display the fetched data\n",
    "        for row in top_wineries_rank1_awards_with_awards:\n",
    "            winery_name, rank1_awards_count, awards_received = row\n",
    "            awards_list = awards_received.split(',')  # Split the awards into a list\n",
    "            awards_formatted = \"\\n\".join(awards_list)  # Join the awards with line breaks\n",
    "            print(f\"Winery: {winery_name}, Rank 1 Awards Count: {rank1_awards_count}, Awards Received:\\n{awards_formatted}\\n\")\n",
    "            \n",
    "    except sqlite3.Error as e:\n",
    "        print(\"SQLite error:\", e)\n",
    "    finally:\n",
    "        # Close the connection\n",
    "        conn.close()\n",
    "\n",
    "db_file_path = \"../db/vivino.db\"\n",
    "\n",
    "# Call the function to get top 3 wineries with the most rank 1 awards and their awards\n",
    "get_top_wineries_rank1_awards_with_awards(db_file_path)\n"
   ]
  },
  {
   "cell_type": "code",
   "execution_count": 39,
   "metadata": {},
   "outputs": [
    {
     "name": "stdout",
     "output_type": "stream",
     "text": [
      "Country: États-Unis, Top Rated Wine: Cabernet Sauvignon, Rating: 4.80\n",
      "Country: Italie, Top Rated Wine: Amarone della Valpolicella Classico Riserva, Rating: 4.80\n",
      "Country: France, Top Rated Wine: Cristal Rosé Vinothèque, Rating: 4.80\n",
      "Country: Espagne, Top Rated Wine: Mágico, Rating: 4.80\n",
      "Country: Hongrie, Top Rated Wine: Eszencia, Rating: 4.70\n",
      "Country: Australie, Top Rated Wine: Grange, Rating: 4.70\n",
      "Country: Allemagne, Top Rated Wine: Scharzhofberger Riesling Eiswein, Rating: 4.70\n",
      "Country: Afrique du Sud, Top Rated Wine: Book 17 XVII, Rating: 4.70\n",
      "Country: Portugal, Top Rated Wine: Tordiz 40 Year Old Tawny Port, Rating: 4.60\n",
      "Country: Chili, Top Rated Wine: Almaviva, Rating: 4.60\n",
      "Country: Argentine, Top Rated Wine: Nosotros Single Vineyard Nómade, Rating: 4.60\n",
      "Country: Moldavie, Top Rated Wine: Lupi Rezerva, Rating: 4.50\n",
      "Country: Israël, Top Rated Wine: Yarden Katzrin, Rating: 4.50\n",
      "Country: Suisse, Top Rated Wine: Sous L'Escalier Petite Arvine du Valais, Rating: 4.40\n",
      "Country: Roumanie, Top Rated Wine: Carpathia Heritage, Rating: 4.40\n",
      "Country: Grèce, Top Rated Wine: Παλιές Ρίζες (Palies Rizes), Rating: 4.40\n",
      "Country: Croatie, Top Rated Wine: Winemaker's Selection, Rating: 4.30\n"
     ]
    }
   ],
   "source": [
    "import sqlite3\n",
    "\n",
    "def get_top_rated_wine_per_country(db_file):\n",
    "    # Connect to the database\n",
    "    conn = sqlite3.connect(db_file)\n",
    "    cursor = conn.cursor()\n",
    "\n",
    "    try:\n",
    "        # Execute SQL query to find the top-rated wine for each country\n",
    "        cursor.execute(\"\"\"\n",
    "            SELECT countries.name, MAX(wines.ratings_average) AS max_rating, wines.name AS top_wine\n",
    "            FROM wines\n",
    "            JOIN regions ON wines.region_id = regions.id\n",
    "            JOIN countries ON regions.country_code = countries.code\n",
    "            WHERE wines.ratings_average = (\n",
    "                SELECT MAX(ratings_average) FROM wines AS w \n",
    "                WHERE w.region_id = wines.region_id\n",
    "            )\n",
    "            GROUP BY countries.name\n",
    "            ORDER BY max_rating DESC\n",
    "        \"\"\")\n",
    "\n",
    "        # Fetch the results\n",
    "        top_rated_wine_per_country = cursor.fetchall()\n",
    "\n",
    "        # Display the fetched data\n",
    "        for row in top_rated_wine_per_country:\n",
    "            country_name, max_rating, top_wine = row\n",
    "            print(f\"Country: {country_name}, Top Rated Wine: {top_wine}, Rating: {max_rating:.2f}\")\n",
    "            \n",
    "    except sqlite3.Error as e:\n",
    "        print(\"SQLite error:\", e)\n",
    "    finally:\n",
    "        # Close the connection\n",
    "        conn.close()\n",
    "\n",
    "db_file_path = \"../db/vivino.db\"\n",
    "\n",
    "# Call the function to get the top-rated wine for each country\n",
    "get_top_rated_wine_per_country(db_file_path)\n"
   ]
  },
  {
   "cell_type": "code",
   "execution_count": 65,
   "metadata": {},
   "outputs": [
    {
     "data": {
      "application/vnd.plotly.v1+json": {
       "config": {
        "plotlyServerURL": "https://plot.ly"
       },
       "data": [
        {
         "coloraxis": "coloraxis",
         "customdata": [
          [
           "Nosotros Single Vineyard Nómade",
           4.6
          ],
          [
           "Grange",
           4.7
          ],
          [
           "Sous L'Escalier Petite Arvine du Valais",
           4.4
          ],
          [
           "Almaviva",
           4.6
          ],
          [
           "Scharzhofberger Riesling Eiswein",
           4.7
          ],
          [
           "Mágico",
           4.8
          ],
          [
           "Cristal Rosé Vinothèque",
           4.8
          ],
          [
           "Παλιές Ρίζες (Palies Rizes)",
           4.4
          ],
          [
           "Winemaker's Selection",
           4.3
          ],
          [
           "Eszencia",
           4.7
          ],
          [
           "Yarden Katzrin",
           4.5
          ],
          [
           "Amarone della Valpolicella Classico Riserva",
           4.8
          ],
          [
           "Lupi Rezerva",
           4.5
          ],
          [
           "Tordiz 40 Year Old Tawny Port",
           4.6
          ],
          [
           "Carpathia Heritage",
           4.4
          ],
          [
           "Cabernet Sauvignon",
           4.8
          ],
          [
           "Book 17 XVII",
           4.7
          ]
         ],
         "geo": "geo",
         "hovertemplate": "<b>%{hovertext}</b><br><br>code=%{location}<br>top_wine_name=%{customdata[0]}<br>Max Rating=%{z:.2f}<extra></extra>",
         "hovertext": [
          "Argentine",
          "Australie",
          "Suisse",
          "Chili",
          "Allemagne",
          "Espagne",
          "France",
          "Grèce",
          "Croatie",
          "Hongrie",
          "Israël",
          "Italie",
          "Moldavie",
          "Portugal",
          "Roumanie",
          "États-Unis",
          "Afrique du Sud"
         ],
         "locations": [
          "ARG",
          "AUS",
          "CHE",
          "CHL",
          "DEU",
          "ESP",
          "FRA",
          "GRC",
          "HRV",
          "HUN",
          "ISR",
          "ITA",
          "MDA",
          "PRT",
          "ROU",
          "USA",
          "ZAF"
         ],
         "name": "",
         "type": "choropleth",
         "z": [
          4.6,
          4.7,
          4.4,
          4.6,
          4.7,
          4.8,
          4.8,
          4.4,
          4.3,
          4.7,
          4.5,
          4.8,
          4.5,
          4.6,
          4.4,
          4.8,
          4.7
         ]
        }
       ],
       "layout": {
        "coloraxis": {
         "colorbar": {
          "title": {
           "text": "Max Rating"
          }
         },
         "colorscale": [
          [
           0,
           "rgb(165,0,38)"
          ],
          [
           0.1,
           "rgb(215,48,39)"
          ],
          [
           0.2,
           "rgb(244,109,67)"
          ],
          [
           0.3,
           "rgb(253,174,97)"
          ],
          [
           0.4,
           "rgb(254,224,139)"
          ],
          [
           0.5,
           "rgb(255,255,191)"
          ],
          [
           0.6,
           "rgb(217,239,139)"
          ],
          [
           0.7,
           "rgb(166,217,106)"
          ],
          [
           0.8,
           "rgb(102,189,99)"
          ],
          [
           0.9,
           "rgb(26,152,80)"
          ],
          [
           1,
           "rgb(0,104,55)"
          ]
         ]
        },
        "geo": {
         "center": {},
         "domain": {
          "x": [
           0,
           1
          ],
          "y": [
           0,
           1
          ]
         },
         "projection": {
          "type": "natural earth"
         },
         "showcoastlines": true,
         "showcountries": true,
         "showland": true
        },
        "legend": {
         "tracegroupgap": 0
        },
        "margin": {
         "t": 60
        },
        "template": {
         "data": {
          "bar": [
           {
            "error_x": {
             "color": "#2a3f5f"
            },
            "error_y": {
             "color": "#2a3f5f"
            },
            "marker": {
             "line": {
              "color": "#E5ECF6",
              "width": 0.5
             },
             "pattern": {
              "fillmode": "overlay",
              "size": 10,
              "solidity": 0.2
             }
            },
            "type": "bar"
           }
          ],
          "barpolar": [
           {
            "marker": {
             "line": {
              "color": "#E5ECF6",
              "width": 0.5
             },
             "pattern": {
              "fillmode": "overlay",
              "size": 10,
              "solidity": 0.2
             }
            },
            "type": "barpolar"
           }
          ],
          "carpet": [
           {
            "aaxis": {
             "endlinecolor": "#2a3f5f",
             "gridcolor": "white",
             "linecolor": "white",
             "minorgridcolor": "white",
             "startlinecolor": "#2a3f5f"
            },
            "baxis": {
             "endlinecolor": "#2a3f5f",
             "gridcolor": "white",
             "linecolor": "white",
             "minorgridcolor": "white",
             "startlinecolor": "#2a3f5f"
            },
            "type": "carpet"
           }
          ],
          "choropleth": [
           {
            "colorbar": {
             "outlinewidth": 0,
             "ticks": ""
            },
            "type": "choropleth"
           }
          ],
          "contour": [
           {
            "colorbar": {
             "outlinewidth": 0,
             "ticks": ""
            },
            "colorscale": [
             [
              0,
              "#0d0887"
             ],
             [
              0.1111111111111111,
              "#46039f"
             ],
             [
              0.2222222222222222,
              "#7201a8"
             ],
             [
              0.3333333333333333,
              "#9c179e"
             ],
             [
              0.4444444444444444,
              "#bd3786"
             ],
             [
              0.5555555555555556,
              "#d8576b"
             ],
             [
              0.6666666666666666,
              "#ed7953"
             ],
             [
              0.7777777777777778,
              "#fb9f3a"
             ],
             [
              0.8888888888888888,
              "#fdca26"
             ],
             [
              1,
              "#f0f921"
             ]
            ],
            "type": "contour"
           }
          ],
          "contourcarpet": [
           {
            "colorbar": {
             "outlinewidth": 0,
             "ticks": ""
            },
            "type": "contourcarpet"
           }
          ],
          "heatmap": [
           {
            "colorbar": {
             "outlinewidth": 0,
             "ticks": ""
            },
            "colorscale": [
             [
              0,
              "#0d0887"
             ],
             [
              0.1111111111111111,
              "#46039f"
             ],
             [
              0.2222222222222222,
              "#7201a8"
             ],
             [
              0.3333333333333333,
              "#9c179e"
             ],
             [
              0.4444444444444444,
              "#bd3786"
             ],
             [
              0.5555555555555556,
              "#d8576b"
             ],
             [
              0.6666666666666666,
              "#ed7953"
             ],
             [
              0.7777777777777778,
              "#fb9f3a"
             ],
             [
              0.8888888888888888,
              "#fdca26"
             ],
             [
              1,
              "#f0f921"
             ]
            ],
            "type": "heatmap"
           }
          ],
          "heatmapgl": [
           {
            "colorbar": {
             "outlinewidth": 0,
             "ticks": ""
            },
            "colorscale": [
             [
              0,
              "#0d0887"
             ],
             [
              0.1111111111111111,
              "#46039f"
             ],
             [
              0.2222222222222222,
              "#7201a8"
             ],
             [
              0.3333333333333333,
              "#9c179e"
             ],
             [
              0.4444444444444444,
              "#bd3786"
             ],
             [
              0.5555555555555556,
              "#d8576b"
             ],
             [
              0.6666666666666666,
              "#ed7953"
             ],
             [
              0.7777777777777778,
              "#fb9f3a"
             ],
             [
              0.8888888888888888,
              "#fdca26"
             ],
             [
              1,
              "#f0f921"
             ]
            ],
            "type": "heatmapgl"
           }
          ],
          "histogram": [
           {
            "marker": {
             "pattern": {
              "fillmode": "overlay",
              "size": 10,
              "solidity": 0.2
             }
            },
            "type": "histogram"
           }
          ],
          "histogram2d": [
           {
            "colorbar": {
             "outlinewidth": 0,
             "ticks": ""
            },
            "colorscale": [
             [
              0,
              "#0d0887"
             ],
             [
              0.1111111111111111,
              "#46039f"
             ],
             [
              0.2222222222222222,
              "#7201a8"
             ],
             [
              0.3333333333333333,
              "#9c179e"
             ],
             [
              0.4444444444444444,
              "#bd3786"
             ],
             [
              0.5555555555555556,
              "#d8576b"
             ],
             [
              0.6666666666666666,
              "#ed7953"
             ],
             [
              0.7777777777777778,
              "#fb9f3a"
             ],
             [
              0.8888888888888888,
              "#fdca26"
             ],
             [
              1,
              "#f0f921"
             ]
            ],
            "type": "histogram2d"
           }
          ],
          "histogram2dcontour": [
           {
            "colorbar": {
             "outlinewidth": 0,
             "ticks": ""
            },
            "colorscale": [
             [
              0,
              "#0d0887"
             ],
             [
              0.1111111111111111,
              "#46039f"
             ],
             [
              0.2222222222222222,
              "#7201a8"
             ],
             [
              0.3333333333333333,
              "#9c179e"
             ],
             [
              0.4444444444444444,
              "#bd3786"
             ],
             [
              0.5555555555555556,
              "#d8576b"
             ],
             [
              0.6666666666666666,
              "#ed7953"
             ],
             [
              0.7777777777777778,
              "#fb9f3a"
             ],
             [
              0.8888888888888888,
              "#fdca26"
             ],
             [
              1,
              "#f0f921"
             ]
            ],
            "type": "histogram2dcontour"
           }
          ],
          "mesh3d": [
           {
            "colorbar": {
             "outlinewidth": 0,
             "ticks": ""
            },
            "type": "mesh3d"
           }
          ],
          "parcoords": [
           {
            "line": {
             "colorbar": {
              "outlinewidth": 0,
              "ticks": ""
             }
            },
            "type": "parcoords"
           }
          ],
          "pie": [
           {
            "automargin": true,
            "type": "pie"
           }
          ],
          "scatter": [
           {
            "fillpattern": {
             "fillmode": "overlay",
             "size": 10,
             "solidity": 0.2
            },
            "type": "scatter"
           }
          ],
          "scatter3d": [
           {
            "line": {
             "colorbar": {
              "outlinewidth": 0,
              "ticks": ""
             }
            },
            "marker": {
             "colorbar": {
              "outlinewidth": 0,
              "ticks": ""
             }
            },
            "type": "scatter3d"
           }
          ],
          "scattercarpet": [
           {
            "marker": {
             "colorbar": {
              "outlinewidth": 0,
              "ticks": ""
             }
            },
            "type": "scattercarpet"
           }
          ],
          "scattergeo": [
           {
            "marker": {
             "colorbar": {
              "outlinewidth": 0,
              "ticks": ""
             }
            },
            "type": "scattergeo"
           }
          ],
          "scattergl": [
           {
            "marker": {
             "colorbar": {
              "outlinewidth": 0,
              "ticks": ""
             }
            },
            "type": "scattergl"
           }
          ],
          "scattermapbox": [
           {
            "marker": {
             "colorbar": {
              "outlinewidth": 0,
              "ticks": ""
             }
            },
            "type": "scattermapbox"
           }
          ],
          "scatterpolar": [
           {
            "marker": {
             "colorbar": {
              "outlinewidth": 0,
              "ticks": ""
             }
            },
            "type": "scatterpolar"
           }
          ],
          "scatterpolargl": [
           {
            "marker": {
             "colorbar": {
              "outlinewidth": 0,
              "ticks": ""
             }
            },
            "type": "scatterpolargl"
           }
          ],
          "scatterternary": [
           {
            "marker": {
             "colorbar": {
              "outlinewidth": 0,
              "ticks": ""
             }
            },
            "type": "scatterternary"
           }
          ],
          "surface": [
           {
            "colorbar": {
             "outlinewidth": 0,
             "ticks": ""
            },
            "colorscale": [
             [
              0,
              "#0d0887"
             ],
             [
              0.1111111111111111,
              "#46039f"
             ],
             [
              0.2222222222222222,
              "#7201a8"
             ],
             [
              0.3333333333333333,
              "#9c179e"
             ],
             [
              0.4444444444444444,
              "#bd3786"
             ],
             [
              0.5555555555555556,
              "#d8576b"
             ],
             [
              0.6666666666666666,
              "#ed7953"
             ],
             [
              0.7777777777777778,
              "#fb9f3a"
             ],
             [
              0.8888888888888888,
              "#fdca26"
             ],
             [
              1,
              "#f0f921"
             ]
            ],
            "type": "surface"
           }
          ],
          "table": [
           {
            "cells": {
             "fill": {
              "color": "#EBF0F8"
             },
             "line": {
              "color": "white"
             }
            },
            "header": {
             "fill": {
              "color": "#C8D4E3"
             },
             "line": {
              "color": "white"
             }
            },
            "type": "table"
           }
          ]
         },
         "layout": {
          "annotationdefaults": {
           "arrowcolor": "#2a3f5f",
           "arrowhead": 0,
           "arrowwidth": 1
          },
          "autotypenumbers": "strict",
          "coloraxis": {
           "colorbar": {
            "outlinewidth": 0,
            "ticks": ""
           }
          },
          "colorscale": {
           "diverging": [
            [
             0,
             "#8e0152"
            ],
            [
             0.1,
             "#c51b7d"
            ],
            [
             0.2,
             "#de77ae"
            ],
            [
             0.3,
             "#f1b6da"
            ],
            [
             0.4,
             "#fde0ef"
            ],
            [
             0.5,
             "#f7f7f7"
            ],
            [
             0.6,
             "#e6f5d0"
            ],
            [
             0.7,
             "#b8e186"
            ],
            [
             0.8,
             "#7fbc41"
            ],
            [
             0.9,
             "#4d9221"
            ],
            [
             1,
             "#276419"
            ]
           ],
           "sequential": [
            [
             0,
             "#0d0887"
            ],
            [
             0.1111111111111111,
             "#46039f"
            ],
            [
             0.2222222222222222,
             "#7201a8"
            ],
            [
             0.3333333333333333,
             "#9c179e"
            ],
            [
             0.4444444444444444,
             "#bd3786"
            ],
            [
             0.5555555555555556,
             "#d8576b"
            ],
            [
             0.6666666666666666,
             "#ed7953"
            ],
            [
             0.7777777777777778,
             "#fb9f3a"
            ],
            [
             0.8888888888888888,
             "#fdca26"
            ],
            [
             1,
             "#f0f921"
            ]
           ],
           "sequentialminus": [
            [
             0,
             "#0d0887"
            ],
            [
             0.1111111111111111,
             "#46039f"
            ],
            [
             0.2222222222222222,
             "#7201a8"
            ],
            [
             0.3333333333333333,
             "#9c179e"
            ],
            [
             0.4444444444444444,
             "#bd3786"
            ],
            [
             0.5555555555555556,
             "#d8576b"
            ],
            [
             0.6666666666666666,
             "#ed7953"
            ],
            [
             0.7777777777777778,
             "#fb9f3a"
            ],
            [
             0.8888888888888888,
             "#fdca26"
            ],
            [
             1,
             "#f0f921"
            ]
           ]
          },
          "colorway": [
           "#636efa",
           "#EF553B",
           "#00cc96",
           "#ab63fa",
           "#FFA15A",
           "#19d3f3",
           "#FF6692",
           "#B6E880",
           "#FF97FF",
           "#FECB52"
          ],
          "font": {
           "color": "#2a3f5f"
          },
          "geo": {
           "bgcolor": "white",
           "lakecolor": "white",
           "landcolor": "#E5ECF6",
           "showlakes": true,
           "showland": true,
           "subunitcolor": "white"
          },
          "hoverlabel": {
           "align": "left"
          },
          "hovermode": "closest",
          "mapbox": {
           "style": "light"
          },
          "paper_bgcolor": "white",
          "plot_bgcolor": "#E5ECF6",
          "polar": {
           "angularaxis": {
            "gridcolor": "white",
            "linecolor": "white",
            "ticks": ""
           },
           "bgcolor": "#E5ECF6",
           "radialaxis": {
            "gridcolor": "white",
            "linecolor": "white",
            "ticks": ""
           }
          },
          "scene": {
           "xaxis": {
            "backgroundcolor": "#E5ECF6",
            "gridcolor": "white",
            "gridwidth": 2,
            "linecolor": "white",
            "showbackground": true,
            "ticks": "",
            "zerolinecolor": "white"
           },
           "yaxis": {
            "backgroundcolor": "#E5ECF6",
            "gridcolor": "white",
            "gridwidth": 2,
            "linecolor": "white",
            "showbackground": true,
            "ticks": "",
            "zerolinecolor": "white"
           },
           "zaxis": {
            "backgroundcolor": "#E5ECF6",
            "gridcolor": "white",
            "gridwidth": 2,
            "linecolor": "white",
            "showbackground": true,
            "ticks": "",
            "zerolinecolor": "white"
           }
          },
          "shapedefaults": {
           "line": {
            "color": "#2a3f5f"
           }
          },
          "ternary": {
           "aaxis": {
            "gridcolor": "white",
            "linecolor": "white",
            "ticks": ""
           },
           "baxis": {
            "gridcolor": "white",
            "linecolor": "white",
            "ticks": ""
           },
           "bgcolor": "#E5ECF6",
           "caxis": {
            "gridcolor": "white",
            "linecolor": "white",
            "ticks": ""
           }
          },
          "title": {
           "x": 0.05
          },
          "xaxis": {
           "automargin": true,
           "gridcolor": "white",
           "linecolor": "white",
           "ticks": "",
           "title": {
            "standoff": 15
           },
           "zerolinecolor": "white",
           "zerolinewidth": 2
          },
          "yaxis": {
           "automargin": true,
           "gridcolor": "white",
           "linecolor": "white",
           "ticks": "",
           "title": {
            "standoff": 15
           },
           "zerolinecolor": "white",
           "zerolinewidth": 2
          }
         }
        },
        "title": {
         "text": "Top Wine per Country"
        }
       }
      }
     },
     "metadata": {},
     "output_type": "display_data"
    }
   ],
   "source": [
    "import plotly.express as px\n",
    "\n",
    "def get_top_wine_per_country(db_file):\n",
    "    # Connect to the SQLite database\n",
    "    conn = sqlite3.connect(db_file)\n",
    "\n",
    "    try:\n",
    "        # Execute SQL query to retrieve the top wine for each country\n",
    "        query = \"\"\"\n",
    "            SELECT \n",
    "                countries.code, \n",
    "                countries.name AS country_name,\n",
    "                MAX(wines.ratings_average) AS max_rating,\n",
    "                wines.name AS top_wine_name\n",
    "            FROM \n",
    "                wines\n",
    "            JOIN \n",
    "                regions ON wines.region_id = regions.id\n",
    "            JOIN \n",
    "                countries ON regions.country_code = countries.code\n",
    "            GROUP BY \n",
    "                countries.code\n",
    "        \"\"\"\n",
    "        cursor = conn.cursor()\n",
    "        cursor.execute(query)\n",
    "\n",
    "        # Fetch all rows\n",
    "        rows = cursor.fetchall()\n",
    "\n",
    "        # Convert rows to a list of dictionaries\n",
    "        data = [{'code': convert_to_alpha3(row[0]), 'country_name': row[1], 'max_rating': row[2], 'top_wine_name': row[3]} for row in rows]\n",
    "\n",
    "        return data\n",
    "            \n",
    "    except sqlite3.Error as e:\n",
    "        print(\"SQLite error:\", e)\n",
    "    finally:\n",
    "        # Close the connection\n",
    "        conn.close()\n",
    "\n",
    "# Function to convert two-letter country code to ISO 3166-1 alpha-3 format\n",
    "def convert_to_alpha3(code):\n",
    "    country_codes = {\n",
    "        'ar': 'ARG', 'au': 'AUS', 'ch': 'CHE', 'cl': 'CHL', 'de': 'DEU', 'es': 'ESP', 'fr': 'FRA', 'gr': 'GRC',\n",
    "        'hr': 'HRV', 'hu': 'HUN', 'il': 'ISR', 'it': 'ITA', 'md': 'MDA', 'pt': 'PRT', 'ro': 'ROU', 'us': 'USA',\n",
    "        'za': 'ZAF'\n",
    "    }\n",
    "    return country_codes.get(code, code)  # Return the alpha-3 code if available, otherwise return the original code\n",
    "\n",
    "# Provide the path to your SQLite database file\n",
    "db_file_path = \"../db/vivino.db\"\n",
    "\n",
    "# Call the function to retrieve the data\n",
    "data = get_top_wine_per_country(db_file_path)\n",
    "\n",
    "# If data is not None, create a choropleth map using Plotly Express\n",
    "if data:\n",
    "    # Create a DataFrame from the data\n",
    "    df = pd.DataFrame(data)\n",
    "\n",
    "    # Create a choropleth map using Plotly Express\n",
    "    fig = px.choropleth(df, \n",
    "                        locations='code', \n",
    "                        color='max_rating',\n",
    "                        color_continuous_scale=\"RdYlGn\",\n",
    "                        hover_name=\"country_name\",\n",
    "                        hover_data={'top_wine_name': True, 'max_rating': ':.2f'},\n",
    "                        projection=\"natural earth\",\n",
    "                        labels={'max_rating': 'Max Rating'})\n",
    "\n",
    "    # Update layout settings\n",
    "    fig.update_layout(\n",
    "        title_text='Top Wine per Country',\n",
    "        geo=dict(\n",
    "            showland=True,\n",
    "            showcountries=True,\n",
    "            showcoastlines=True,\n",
    "            projection_type='natural earth'\n",
    "        )\n",
    "    )\n",
    "\n",
    "    # Show the figure\n",
    "    fig.show()\n"
   ]
  }
 ],
 "metadata": {
  "kernelspec": {
   "display_name": "Python 3",
   "language": "python",
   "name": "python3"
  },
  "language_info": {
   "codemirror_mode": {
    "name": "ipython",
    "version": 3
   },
   "file_extension": ".py",
   "mimetype": "text/x-python",
   "name": "python",
   "nbconvert_exporter": "python",
   "pygments_lexer": "ipython3",
   "version": "3.12.1"
  }
 },
 "nbformat": 4,
 "nbformat_minor": 2
}
