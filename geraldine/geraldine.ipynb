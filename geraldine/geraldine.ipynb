{
 "cells": [
  {
   "cell_type": "markdown",
   "metadata": {},
   "source": [
    "Known Issue 4:\n",
    "#### The regions_count variable from the countries table doesn't correspond to the actual number of regions found in the database (e.g. way less regions in France than the count variable indicates).\n",
    "\n",
    "Not all country regions are relevant, only wine regions. Adding wine_regions_count column to countries table."
   ]
  },
  {
   "cell_type": "code",
   "execution_count": 1,
   "metadata": {},
   "outputs": [],
   "source": [
    "import sqlite3\n",
    "\n",
    "db_file_path = \"../db/vivino.db\""
   ]
  },
  {
   "cell_type": "code",
   "execution_count": null,
   "metadata": {},
   "outputs": [],
   "source": [
    "def add_wine_regions_count_column(db_file):\n",
    "    # Connect to the database\n",
    "    conn = sqlite3.connect(db_file)\n",
    "    cursor = conn.cursor()\n",
    "\n",
    "    try:\n",
    "        # Execute SQL query to add the wine_regions_count column to countries table\n",
    "        cursor.execute(\"\"\"\n",
    "            ALTER TABLE countries\n",
    "            ADD COLUMN wine_regions_count INTEGER\n",
    "        \"\"\")\n",
    "\n",
    "        print(\"Added wine_regions_count column to countries table successfully.\")\n",
    "        \n",
    "        # Commit the transaction\n",
    "        conn.commit()\n",
    "            \n",
    "    except sqlite3.Error as e:\n",
    "        conn.rollback()  # Rollback changes if there's an error\n",
    "        print(\"SQLite error:\", e)\n",
    "    finally:\n",
    "        # Close the connection\n",
    "        conn.close()"
   ]
  },
  {
   "cell_type": "code",
   "execution_count": null,
   "metadata": {},
   "outputs": [],
   "source": [
    "def update_country_wine_regions_count(db_file):\n",
    "    # Connect to the database\n",
    "    conn = sqlite3.connect(db_file)\n",
    "    cursor = conn.cursor()\n",
    "\n",
    "    try:\n",
    "        # Execute SQL query to count the number of regions per country code\n",
    "        cursor.execute(\"\"\"\n",
    "            SELECT regions.country_code, COUNT(regions.id) AS wine_regions_count\n",
    "            FROM regions\n",
    "            GROUP BY regions.country_code\n",
    "        \"\"\")\n",
    "\n",
    "        # Fetch all rows from the result set\n",
    "        rows = cursor.fetchall()\n",
    "\n",
    "        # Update the countries table with the wine regions count\n",
    "        for row in rows:\n",
    "            country_code, wine_regions_count = row\n",
    "            cursor.execute(\"\"\"\n",
    "                UPDATE countries\n",
    "                SET wine_regions_count = ?\n",
    "                WHERE code = ?\n",
    "            \"\"\", (wine_regions_count, country_code))\n",
    "        \n",
    "        # Commit the transaction\n",
    "        conn.commit()\n",
    "        \n",
    "        print(\"Updated countries table with wine regions count successfully.\")\n",
    "            \n",
    "    except sqlite3.Error as e:\n",
    "        conn.rollback()  # Rollback changes if there's an error\n",
    "        print(\"SQLite error:\", e)\n",
    "    finally:\n",
    "        # Close the connection\n",
    "        conn.close()"
   ]
  },
  {
   "cell_type": "markdown",
   "metadata": {},
   "source": [
    "Known Issue 5:\n",
    "#### The regions_count variable from the countries table doesn't correspond to the actual number of regions found in the database (e.g. way less regions in France than the count variable indicates).\n",
    "\n",
    "Not clear and not relevant.  Ignoring this."
   ]
  }
 ],
 "metadata": {
  "kernelspec": {
   "display_name": "Python 3",
   "language": "python",
   "name": "python3"
  },
  "language_info": {
   "codemirror_mode": {
    "name": "ipython",
    "version": 3
   },
   "file_extension": ".py",
   "mimetype": "text/x-python",
   "name": "python",
   "nbconvert_exporter": "python",
   "pygments_lexer": "ipython3",
   "version": "3.12.1"
  }
 },
 "nbformat": 4,
 "nbformat_minor": 2
}
