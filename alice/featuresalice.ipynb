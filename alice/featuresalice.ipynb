{
 "cells": [
  {
   "cell_type": "code",
   "execution_count": 1,
   "metadata": {},
   "outputs": [],
   "source": [
    "import sqlite3\n",
    "\n",
    "con = sqlite3.connect('../db/vivino.db')\n",
    "cursor = con.cursor()"
   ]
  },
  {
   "cell_type": "code",
   "execution_count": 2,
   "metadata": {},
   "outputs": [
    {
     "name": "stdout",
     "output_type": "stream",
     "text": [
      "view created\n"
     ]
    }
   ],
   "source": [
    "try:\n",
    "    cursor.execute(\n",
    "        \"\"\"\n",
    "        CREATE VIEW country_priority AS\n",
    "        SELECT c.name, c.users_count\n",
    "        FROM countries as c\n",
    "        ORDER BY c.users_count DESC\n",
    "        LIMIT 1\n",
    "    \"\"\"\n",
    "\n",
    "    )\n",
    "    con.commit()\n",
    "    print(\"view created\")\n",
    "except Exception as e:\n",
    "    print(\"Error:\", e)\n",
    "    con.rollback()  # Rollback changes if an error occurs"
   ]
  },
  {
   "cell_type": "code",
   "execution_count": 3,
   "metadata": {},
   "outputs": [
    {
     "data": {
      "text/plain": [
       "[('États-Unis', 12273684)]"
      ]
     },
     "execution_count": 3,
     "metadata": {},
     "output_type": "execute_result"
    }
   ],
   "source": [
    "cursor.execute(\n",
    "    \"\"\"\n",
    "    SELECT * FROM country_priority\n",
    "\"\"\"\n",
    ").fetchall()"
   ]
  },
  {
   "cell_type": "code",
   "execution_count": 19,
   "metadata": {},
   "outputs": [
    {
     "name": "stdout",
     "output_type": "stream",
     "text": [
      "view created\n"
     ]
    }
   ],
   "source": [
    "try:\n",
    "    cursor.execute(\n",
    "        \"\"\"\n",
    "        CREATE VIEW three_grapes_five_wines AS\n",
    "        WITH top_grapes AS (\n",
    "            SELECT g.id AS id, g.name AS grape, g.wines_count AS wines_count\n",
    "            FROM grapes AS g\n",
    "            ORDER BY g.wines_count DESC\n",
    "            LIMIT 3\n",
    "        ),\n",
    "        ranked_wines AS (\n",
    "            SELECT w.name AS wine, w.winery_id AS winery_id, w.grape_id, \n",
    "                   ROW_NUMBER() OVER(PARTITION BY w.grape_id ORDER BY w.ratings_average DESC) as rn\n",
    "            FROM wines AS w\n",
    "        )\n",
    "        SELECT tg.grape, rw.wine, wi.name AS winery\n",
    "        FROM top_grapes AS tg\n",
    "        JOIN ranked_wines AS rw ON tg.id = rw.grape_id\n",
    "        JOIN wineries AS wi ON rw.winery_id = wi.id\n",
    "        WHERE rw.rn <= 5\n",
    "        ORDER BY tg.wines_count DESC, rw.rn\n",
    "        \"\"\"\n",
    "    )\n",
    "    con.commit()\n",
    "    print(\"view created\")\n",
    "except Exception as e:\n",
    "    print(\"Error:\", e)\n",
    "    con.rollback()  # Rollback changes if an error occurs"
   ]
  },
  {
   "cell_type": "code",
   "execution_count": 20,
   "metadata": {},
   "outputs": [
    {
     "data": {
      "text/plain": [
       "[('Cabernet Sauvignon', 'Cabernet Sauvignon', 'Scarecrow'),\n",
       " ('Cabernet Sauvignon', 'IX Estate Red', 'Colgin'),\n",
       " ('Cabernet Sauvignon', 'Special Selection Cabernet Sauvignon', 'Caymus'),\n",
       " ('Cabernet Sauvignon', 'Harlan Estate Red', 'Harlan Estate'),\n",
       " ('Cabernet Sauvignon', 'Book 17 XVII', 'De Toren Private Cellar'),\n",
       " ('Chardonnay', 'Chloe Chardonnay', 'DuMOL'),\n",
       " ('Chardonnay', 'Reserve Chardonnay', 'Lismore'),\n",
       " ('Chardonnay', 'Bentrock Vineyard Chardonnay', 'Racines'),\n",
       " ('Chardonnay', 'Chardonnay', 'Capensis'),\n",
       " ('Chardonnay', 'Chardonnay', 'Cloudburst'),\n",
       " ('Pinot Noir', 'Cristal Rosé Vinothèque', 'Louis Roederer'),\n",
       " ('Pinot Noir', 'Batard-Montrachet Grand Cru', 'Pierre Girardin'),\n",
       " ('Pinot Noir', 'Collection', 'Krug'),\n",
       " ('Pinot Noir', 'Clos du Mesnil', 'Krug'),\n",
       " ('Pinot Noir', 'Montrachet Grand Cru', 'Domaine des Comtes Lafon')]"
      ]
     },
     "execution_count": 20,
     "metadata": {},
     "output_type": "execute_result"
    }
   ],
   "source": [
    "cursor.execute(\n",
    "    \"\"\"\n",
    "    SELECT *\n",
    "    from three_grapes_five_wines               \n",
    "\n",
    "\"\"\"\n",
    ").fetchall()"
   ]
  },
  {
   "cell_type": "code",
   "execution_count": 18,
   "metadata": {},
   "outputs": [],
   "source": [
    "cursor.execute(\n",
    "    \"\"\"\n",
    "    DROP VIEW IF EXISTS three_grapes_five_wines\n",
    "    \"\"\"\n",
    ")\n",
    "con.commit()"
   ]
  }
 ],
 "metadata": {
  "kernelspec": {
   "display_name": "Python 3",
   "language": "python",
   "name": "python3"
  },
  "language_info": {
   "codemirror_mode": {
    "name": "ipython",
    "version": 3
   },
   "file_extension": ".py",
   "mimetype": "text/x-python",
   "name": "python",
   "nbconvert_exporter": "python",
   "pygments_lexer": "ipython3",
   "version": "3.12.3"
  }
 },
 "nbformat": 4,
 "nbformat_minor": 2
}
