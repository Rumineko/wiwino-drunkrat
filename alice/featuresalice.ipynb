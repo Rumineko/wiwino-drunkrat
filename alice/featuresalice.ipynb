{
 "cells": [
  {
   "cell_type": "code",
   "execution_count": 1,
   "metadata": {},
   "outputs": [],
   "source": [
    "import sqlite3\n",
    "\n",
    "con = sqlite3.connect('../db/vivino.db')\n",
    "cursor = con.cursor()"
   ]
  },
  {
   "cell_type": "code",
<<<<<<< HEAD
   "execution_count": 2,
=======
   "execution_count": 14,
>>>>>>> 2ca0b784e49529fb7c5e1d48d854f762281153bc
   "metadata": {},
   "outputs": [
    {
     "name": "stdout",
     "output_type": "stream",
     "text": [
      "view created\n"
     ]
    }
   ],
   "source": [
    "try:\n",
    "    cursor.execute(\n",
    "        \"\"\"\n",
    "        CREATE VIEW country_priority AS\n",
    "        SELECT c.name, c.users_count, c.regions_count, c.wines_count, c.wineries_count\n",
    "        FROM countries as c\n",
    "        ORDER BY c.users_count DESC\n",
    "    \"\"\"\n",
    "\n",
    "    )\n",
    "    con.commit()\n",
    "    print(\"view created\")\n",
    "except Exception as e:\n",
    "    print(\"Error:\", e)\n",
    "    con.rollback()  # Rollback changes if an error occurs"
   ]
  },
  {
   "cell_type": "code",
<<<<<<< HEAD
   "execution_count": 3,
   "metadata": {},
   "outputs": [
    {
     "data": {
      "text/plain": [
       "[('États-Unis', 12273684)]"
      ]
     },
     "execution_count": 3,
     "metadata": {},
     "output_type": "execute_result"
=======
   "execution_count": 16,
   "metadata": {},
   "outputs": [
    {
     "name": "stdout",
     "output_type": "stream",
     "text": [
      "Country Name: États-Unis Users Count: 12273684 Regions Count: 362 Wines Count: 204060 Wineries Count: 28145\n",
      "Country Name: France Users Count: 5973301 Regions Count: 1306 Wines Count: 422503 Wineries Count: 67553\n",
      "Country Name: Italie Users Count: 4270717 Regions Count: 563 Wines Count: 274658 Wineries Count: 42399\n",
      "Country Name: Allemagne Users Count: 2549989 Regions Count: 236 Wines Count: 164533 Wineries Count: 13643\n",
      "Country Name: Espagne Users Count: 2264396 Regions Count: 152 Wines Count: 102662 Wineries Count: 18026\n",
      "Country Name: Suisse Users Count: 1601799 Regions Count: 73 Wines Count: 33656 Wineries Count: 3849\n",
      "Country Name: Portugal Users Count: 1123535 Regions Count: 93 Wines Count: 39847 Wineries Count: 5834\n",
      "Country Name: Australie Users Count: 1022965 Regions Count: 120 Wines Count: 90954 Wineries Count: 13946\n",
      "Country Name: Argentine Users Count: 629532 Regions Count: 41 Wines Count: 36121 Wineries Count: 5339\n",
      "Country Name: Chili Users Count: 326757 Regions Count: 41 Wines Count: 41191 Wineries Count: 5785\n",
      "Country Name: Afrique du Sud Users Count: 269649 Regions Count: 112 Wines Count: 30857 Wineries Count: 4227\n",
      "Country Name: Roumanie Users Count: 228185 Regions Count: 27 Wines Count: 6841 Wineries Count: 686\n",
      "Country Name: Israël Users Count: 150549 Regions Count: 20 Wines Count: 5435 Wineries Count: 529\n",
      "Country Name: Hongrie Users Count: 102235 Regions Count: 29 Wines Count: 16605 Wineries Count: 1923\n",
      "Country Name: Grèce Users Count: 95693 Regions Count: 140 Wines Count: 9581 Wineries Count: 1294\n",
      "Country Name: Croatie Users Count: 64223 Regions Count: 22 Wines Count: 5880 Wineries Count: 980\n",
      "Country Name: Moldavie Users Count: 13583 Regions Count: 9 Wines Count: 5055 Wineries Count: 418\n"
     ]
>>>>>>> 2ca0b784e49529fb7c5e1d48d854f762281153bc
    }
   ],
   "source": [
    "countries = cursor.execute(\n",
    "    \"\"\"\n",
    "    SELECT * FROM country_priority\n",
    "\"\"\"\n",
    ").fetchall()\n",
    "\n",
    "for country in countries:\n",
    "    print(\"Country Name:\", country[0], \"Users Count:\", country[1], \"Regions Count:\", country[2], \"Wines Count:\", country[3], \"Wineries Count:\", country[4])"
   ]
  },
  {
   "cell_type": "code",
<<<<<<< HEAD
   "execution_count": 19,
=======
   "execution_count": 20,
   "metadata": {},
   "outputs": [],
   "source": [
    "cursor.execute(\n",
    "    \"\"\"\n",
    "    DROP VIEW IF EXISTS country_priority\n",
    "    \"\"\"\n",
    ")\n",
    "con.commit()"
   ]
  },
  {
   "cell_type": "code",
   "execution_count": 4,
>>>>>>> 2ca0b784e49529fb7c5e1d48d854f762281153bc
   "metadata": {},
   "outputs": [
    {
     "name": "stdout",
     "output_type": "stream",
     "text": [
      "view created\n"
     ]
    }
   ],
   "source": [
    "try:\n",
    "    cursor.execute(\n",
    "        \"\"\"\n",
    "        CREATE VIEW top_five_wines_per_grape AS\n",
    "        WITH top_grapes AS (\n",
    "            SELECT g.id AS id, g.name AS grape, g.wines_count AS wines_count\n",
    "            FROM grapes AS g\n",
    "            ORDER BY g.wines_count DESC\n",
    "        ),\n",
    "        ranked_wines AS (\n",
    "            SELECT w.name AS wine, w.winery_id AS winery_id, w.grape_id, \n",
    "                   ROW_NUMBER() OVER(PARTITION BY w.grape_id ORDER BY w.ratings_average DESC) as rn\n",
    "            FROM wines AS w\n",
    "        )\n",
    "        SELECT tg.grape, rw.wine, wi.name AS winery\n",
    "        FROM top_grapes AS tg\n",
    "        JOIN ranked_wines AS rw ON tg.id = rw.grape_id\n",
    "        JOIN wineries AS wi ON rw.winery_id = wi.id\n",
    "        WHERE rw.rn <= 5\n",
    "        ORDER BY tg.wines_count DESC, rw.rn\n",
    "        \"\"\"\n",
    "    )\n",
    "    con.commit()\n",
    "    print(\"view created\")\n",
    "except Exception as e:\n",
    "    print(\"Error:\", e)\n",
    "    con.rollback()  # Rollback changes if an error occurs"
   ]
  },
  {
   "cell_type": "code",
<<<<<<< HEAD
   "execution_count": 20,
=======
   "execution_count": 18,
>>>>>>> 2ca0b784e49529fb7c5e1d48d854f762281153bc
   "metadata": {},
   "outputs": [
    {
     "data": {
      "text/plain": [
       "[('Cabernet Sauvignon', 'Cabernet Sauvignon', 'Scarecrow'),\n",
       " ('Cabernet Sauvignon', 'IX Estate Red', 'Colgin'),\n",
       " ('Cabernet Sauvignon', 'Special Selection Cabernet Sauvignon', 'Caymus'),\n",
       " ('Cabernet Sauvignon', 'Harlan Estate Red', 'Harlan Estate'),\n",
       " ('Cabernet Sauvignon', 'Book 17 XVII', 'De Toren Private Cellar'),\n",
       " ('Chardonnay', 'Chloe Chardonnay', 'DuMOL'),\n",
       " ('Chardonnay', 'Reserve Chardonnay', 'Lismore'),\n",
       " ('Chardonnay', 'Bentrock Vineyard Chardonnay', 'Racines'),\n",
       " ('Chardonnay', 'Chardonnay', 'Capensis'),\n",
       " ('Chardonnay', 'Chardonnay', 'Cloudburst'),\n",
       " ('Pinot Noir', 'Cristal Rosé Vinothèque', 'Louis Roederer'),\n",
       " ('Pinot Noir', 'Batard-Montrachet Grand Cru', 'Pierre Girardin'),\n",
       " ('Pinot Noir', 'Collection', 'Krug'),\n",
       " ('Pinot Noir', 'Clos du Mesnil', 'Krug'),\n",
<<<<<<< HEAD
       " ('Pinot Noir', 'Montrachet Grand Cru', 'Domaine des Comtes Lafon')]"
      ]
     },
     "execution_count": 20,
=======
       " ('Pinot Noir', 'Montrachet Grand Cru', 'Domaine des Comtes Lafon'),\n",
       " ('Merlot', 'Calle Merlot Rosso Veronese', 'Fasoli Gino'),\n",
       " ('Merlot', 'Merlot', 'Leonetti'),\n",
       " ('Merlot', '110 e Lode Merlot', 'Pilandro'),\n",
       " ('Merlot', 'Carpathia Heritage', '1000 de Chipuri'),\n",
       " ('Merlot', 'Merlot (Signature)', 'Darioush'),\n",
       " ('Shiraz/Syrah', 'Grange', 'Penfolds'),\n",
       " ('Shiraz/Syrah', 'The Laird', 'Torbreck'),\n",
       " ('Shiraz/Syrah', 'The Armagh Shiraz', 'Jim Barry'),\n",
       " ('Shiraz/Syrah', '802.A Superblend', 'Penfolds'),\n",
       " ('Shiraz/Syrah', 'St. Henri Shiraz', 'Penfolds'),\n",
       " ('Riesling', 'Scharzhofberger Riesling Eiswein', 'Egon Müller - Scharzhof'),\n",
       " ('Riesling', 'Zeltinger Sonnenuhr Beerenauslese', 'Markus Molitor'),\n",
       " ('Riesling', 'Scharzhofberger Riesling Auslese', 'Egon Müller - Scharzhof'),\n",
       " ('Riesling',\n",
       "  \"Graacher Himmelreich Riesling Auslese 'Goldkapsel'\",\n",
       "  'Joh. Jos. Prüm'),\n",
       " ('Riesling', 'Clos Sainte Hune Riesling Alsace', 'Trimbach'),\n",
       " ('Malbec', 'Nosotros Single Vineyard Nómade', 'Susana Balbo'),\n",
       " ('Malbec',\n",
       "  'Adrianna Vineyard Mundus Bacillus Terrae Malbec',\n",
       "  'Catena Zapata'),\n",
       " ('Malbec', 'Bramare Marchiori Vineyard Malbec', 'Viña Cobos'),\n",
       " ('Malbec', 'Finca Bella Vista Malbec', 'Achaval-Ferrer'),\n",
       " ('Malbec', 'Finca Altamira Malbec', 'Achaval-Ferrer'),\n",
       " ('Tempranillo', 'Mágico', 'Sierra Cantabria'),\n",
       " ('Tempranillo', 'Unico Reserva Especial Edición', 'Vega Sicilia'),\n",
       " ('Tempranillo', 'Unico', 'Vega Sicilia'),\n",
       " ('Tempranillo', 'Don PX Convento Selección', 'Toro Albalá'),\n",
       " ('Tempranillo', 'La Vina de Corteo', 'Bodegas El Nido'),\n",
       " ('Sangiovese',\n",
       "  'Amarone della Valpolicella Classico Riserva',\n",
       "  'Quintarelli Giuseppe'),\n",
       " ('Sangiovese', 'Fratini Bolgheri Superiore', 'Tenuta Hortense'),\n",
       " ('Sangiovese', 'Cerretalto Brunello di Montalcino', 'Casanova di Neri'),\n",
       " ('Sangiovese', 'Barolo Riserva Monfortino', 'Giacomo Conterno'),\n",
       " ('Sangiovese', 'Amarone della Valpolicella Classico', 'Quintarelli Giuseppe'),\n",
       " ('Touriga Nacional', 'Tordiz 40 Year Old Tawny Port', 'Burmester'),\n",
       " ('Touriga Nacional', 'Vintage Port Nacional', 'Quinta do Noval'),\n",
       " ('Touriga Nacional', '40 Anos Tawny Port', 'Quinta da Devesa 40 Anos Tawny'),\n",
       " ('Touriga Nacional',\n",
       "  'Colheita Porto Branco',\n",
       "  'Quinta da Devesa 40 Anos Tawny'),\n",
       " ('Touriga Nacional', 'Vintage Port', 'Fonseca'),\n",
       " ('Garnacha', 'Aquilon Garnacha', 'Alto Moncayo'),\n",
       " ('Furmint', 'Eszencia', 'Oremus'),\n",
       " ('Furmint', 'Tokaji Aszú 6 Puttonyos', 'Oremus'),\n",
       " ('Furmint', 'Aszú 6 Puttonyos Tokaj', 'Gizella'),\n",
       " ('Furmint', 'Aszú 6 puttonyos', 'Royal Tokaji'),\n",
       " ('Furmint', 'Tokaji Aszú 5 Puttonyos', 'Oremus'),\n",
       " ('Plavac Mali', \"Winemaker's Selection\", 'Korta Katarina'),\n",
       " ('Agiorgitiko', 'Παλιές Ρίζες (Palies Rizes)', 'La Tour Melas'),\n",
       " ('Agiorgitiko',\n",
       "  'Museum Collection White',\n",
       "  'Ktima Gerovassiliou (Κτήμα Γεροβασιλείου)')]"
      ]
     },
     "execution_count": 18,
>>>>>>> 2ca0b784e49529fb7c5e1d48d854f762281153bc
     "metadata": {},
     "output_type": "execute_result"
    }
   ],
   "source": [
    "cursor.execute(\n",
    "    \"\"\"\n",
    "    SELECT *\n",
    "    from top_five_wines_per_grape               \n",
    "\"\"\"\n",
    ").fetchall()"
   ]
  },
  {
   "cell_type": "code",
<<<<<<< HEAD
   "execution_count": 18,
=======
   "execution_count": 19,
>>>>>>> 2ca0b784e49529fb7c5e1d48d854f762281153bc
   "metadata": {},
   "outputs": [],
   "source": [
    "cursor.execute(\n",
    "    \"\"\"\n",
    "    DROP VIEW IF EXISTS top_five_wines_per_grape\n",
    "    \"\"\"\n",
    ")\n",
    "con.commit()"
   ]
  }
 ],
 "metadata": {
  "kernelspec": {
   "display_name": "Python 3",
   "language": "python",
   "name": "python3"
  },
  "language_info": {
   "codemirror_mode": {
    "name": "ipython",
    "version": 3
   },
   "file_extension": ".py",
   "mimetype": "text/x-python",
   "name": "python",
   "nbconvert_exporter": "python",
   "pygments_lexer": "ipython3",
   "version": "3.12.3"
  }
 },
 "nbformat": 4,
 "nbformat_minor": 2
}
