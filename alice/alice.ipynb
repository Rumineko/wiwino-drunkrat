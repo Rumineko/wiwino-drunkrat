{
 "cells": [
  {
   "cell_type": "markdown",
   "metadata": {},
   "source": [
    "# First part - let us fix the problems with our database"
   ]
  },
  {
   "cell_type": "code",
   "execution_count": 2,
   "metadata": {},
   "outputs": [],
   "source": [
    "import sqlite3\n",
    "\n",
    "con = sqlite3.connect('../db/vivino.db')\n",
    "cursor = con.cursor()\n"
   ]
  },
  {
   "cell_type": "markdown",
   "metadata": {},
   "source": [
    "##### This is to fix the wineries table. We are going to essentially transfer the data that is the winery name from the vintage names, by subtracting strings. WineryName = VintageName - WineName - Year"
   ]
  },
  {
   "cell_type": "code",
   "execution_count": 2,
   "metadata": {},
   "outputs": [
    {
     "name": "stdout",
     "output_type": "stream",
     "text": [
      "Error: duplicate column name: wineries\n",
      "Update successful!\n",
      "Update successful!\n",
      "Update successful!\n",
      "Update successful!\n",
      "Update successful!\n"
     ]
    }
   ],
   "source": [
    "try:\n",
    "    cursor.execute(\n",
    "        \"\"\"\n",
    "        ALTER TABLE vintages\n",
    "        ADD COLUMN wineries TEXT;\n",
    "    \"\"\"\n",
    "    )\n",
    "    con.commit()\n",
    "\n",
    "    print(\"Update successful!\")\n",
    "except Exception as e:\n",
    "    print(\"Error:\", e)\n",
    "    con.rollback()  # Rollback changes if an error occurs\n",
    "\n",
    "try:\n",
    "    cursor.execute(\n",
    "        \"\"\"\n",
    "        UPDATE vintages\n",
    "        SET wineries = SUBSTR(name, 1, LENGTH(name) - 5)\n",
    "    \"\"\"\n",
    "    )\n",
    "    con.commit()\n",
    "\n",
    "    print(\"Update successful!\")\n",
    "except Exception as e:\n",
    "    print(\"Error:\", e)\n",
    "    con.rollback()  # Rollback changes if an error occurs\n",
    "\n",
    "try:\n",
    "    cursor.execute(\n",
    "        \"\"\"\n",
    "        ALTER TABLE wines\n",
    "        ADD COLUMN wineries TEXT;\n",
    "    \"\"\"\n",
    "    )\n",
    "    con.commit()\n",
    "\n",
    "    print(\"Update successful!\")\n",
    "except Exception as e:\n",
    "    print(\"Error:\", e)\n",
    "    con.rollback()  # Rollback changes if an error occurs\n",
    "\n",
    "try:\n",
    "    cursor.execute(\n",
    "        \"\"\"\n",
    "        UPDATE wines\n",
    "        SET wineries = (SELECT wineries FROM vintages WHERE vintages.wine_id = wines.id)\n",
    "    \"\"\"\n",
    "    )\n",
    "    con.commit()\n",
    "\n",
    "    print(\"Update successful!\")\n",
    "except Exception as e:\n",
    "    print(\"Error:\", e)\n",
    "    con.rollback()  # Rollback changes if an error occurs\n",
    "\n",
    "try:\n",
    "    cursor.execute(\n",
    "        \"\"\"\n",
    "        UPDATE wines\n",
    "        SET wineries = CASE\n",
    "            WHEN instr(wineries, name) = 0 THEN wineries\n",
    "            ELSE substr(wineries, 1, instr(wineries, name) - 1) || \n",
    "                 substr(wineries, instr(wineries, name) + length(name))\n",
    "        END\n",
    "        \"\"\"\n",
    "    )\n",
    "    con.commit()\n",
    "\n",
    "    print(\"Update successful!\")\n",
    "    con.commit()\n",
    "\n",
    "    print(\"Update successful!\")\n",
    "except Exception as e:\n",
    "    print(\"Error:\", e)\n",
    "    con.rollback()  # Rollback changes if an error occurs"
   ]
  },
  {
   "cell_type": "markdown",
   "metadata": {},
   "source": [
    "##### Now we have to clear out wineries, and insert the new data"
   ]
  },
  {
   "cell_type": "code",
   "execution_count": 3,
   "metadata": {},
   "outputs": [],
   "source": [
    "try:\n",
    "    cursor.execute(\n",
    "        \"\"\"\n",
    "        DELETE FROM wineries        \n",
    "        \"\"\"\n",
    "    )\n",
    "    con.commit()\n",
    "except Exception as e:\n",
    "    print(\"Error:\", e)\n",
    "    con.rollback()  # Rollback changes if an error occurs\n",
    "\n",
    "try:\n",
    "    cursor.execute(\n",
    "        \"\"\"\n",
    "        INSERT OR IGNORE INTO wineries (id, name)\n",
    "        SELECT DISTINCT winery_id, wineries \n",
    "        FROM wines\n",
    "        \"\"\"\n",
    "    )\n",
    "    con.commit()\n",
    "except Exception as e:\n",
    "    print(\"Error:\", e)\n",
    "    con.rollback()  # Rollback changes if an error occurs\n",
    "\n",
    "try:\n",
    "    cursor.execute(\n",
    "        \"\"\"\n",
    "        ALTER TABLE wines\n",
    "        DROP COLUMN wineries\n",
    "        \"\"\"\n",
    "    )\n",
    "    con.commit()\n",
    "except Exception as e:\n",
    "    print(\"Error:\", e)\n",
    "    con.rollback()  # Rollback changes if an error occurs\n",
    "\n",
    "try:\n",
    "    cursor.execute(\n",
    "        \"\"\"\n",
    "        ALTER TABLE vintages\n",
    "        DROP COLUMN wineries\n",
    "        \"\"\"\n",
    "    )\n",
    "    con.commit()\n",
    "except Exception as e:\n",
    "    print(\"Error:\", e)\n",
    "    con.rollback()  # Rollback changes if an error occurs"
   ]
  },
  {
   "cell_type": "markdown",
   "metadata": {},
   "source": [
    "##### Trim the spacebars"
   ]
  },
  {
   "cell_type": "code",
   "execution_count": 3,
   "metadata": {},
   "outputs": [
    {
     "name": "stdout",
     "output_type": "stream",
     "text": [
      "Update successful!\n"
     ]
    }
   ],
   "source": [
    "try:\n",
    "    cursor.execute(\n",
    "        \"\"\"\n",
    "        UPDATE wineries\n",
    "        SET name = TRIM(name)\n",
    "    \"\"\"\n",
    "    )\n",
    "    con.commit()\n",
    "\n",
    "    print(\"Update successful!\")\n",
    "except Exception as e:\n",
    "    print(\"Error:\", e)\n",
    "    con.rollback()  # Rollback changes if an error occurs"
   ]
  },
  {
   "cell_type": "markdown",
   "metadata": {},
   "source": [
    "##### Check UNIQUE Winery IDs to make sure we got them all\n"
   ]
  },
  {
   "cell_type": "code",
   "execution_count": 3,
   "metadata": {},
   "outputs": [
    {
     "name": "stdout",
     "output_type": "stream",
     "text": [
      "Length of winery_id_from_wines: 658\n",
      "Length of winery_id_from_wineries: 658\n"
     ]
    }
   ],
   "source": [
    "winery_id_from_wines = cursor.execute(\n",
    "    \"\"\"\n",
    "    SELECT DISTINCT winery_id\n",
    "    FROM wines\n",
    "    \"\"\"\n",
    ").fetchall()\n",
    "\n",
    "winery_id_from_wineries = cursor.execute(\n",
    "    \"\"\"\n",
    "    SELECT id\n",
    "    FROM wineries\n",
    "    \"\"\"\n",
    ").fetchall()\n",
    "\n",
    "print(\"Length of winery_id_from_wines:\", len(winery_id_from_wines))\n",
    "print(\"Length of winery_id_from_wineries:\", len(winery_id_from_wineries))\n",
    "    "
   ]
  },
  {
   "cell_type": "markdown",
   "metadata": {},
   "source": [
    "# Now that we have fixed the DataBase, we will create some views to analyze data."
   ]
  },
  {
   "cell_type": "markdown",
   "metadata": {},
   "source": [
    "##### Create the View \"Country Priority\", to give us the countries and the user population count that uses the website"
   ]
  },
  {
   "cell_type": "code",
   "execution_count": 6,
   "metadata": {},
   "outputs": [
    {
     "name": "stdout",
     "output_type": "stream",
     "text": [
      "view created\n"
     ]
    }
   ],
   "source": [
    "try:\n",
    "    cursor.execute(\n",
    "        \"\"\"\n",
    "        CREATE VIEW country_priority AS\n",
    "        SELECT c.name, c.users_count, c.regions_count, c.wines_count, c.wineries_count\n",
    "        FROM countries as c\n",
    "        ORDER BY c.users_count DESC\n",
    "    \"\"\"\n",
    "    )\n",
    "    con.commit()\n",
    "    print(\"view created\")\n",
    "except Exception as e:\n",
    "    print(\"Error:\", e)\n",
    "    con.rollback()  # Rollback changes if an error occurs"
   ]
  },
  {
   "cell_type": "markdown",
   "metadata": {},
   "source": [
    "##### Now the Top Five Wines per Grape Type view."
   ]
  },
  {
   "cell_type": "code",
   "execution_count": 7,
   "metadata": {},
   "outputs": [
    {
     "name": "stdout",
     "output_type": "stream",
     "text": [
      "view created\n"
     ]
    }
   ],
   "source": [
    "try:\n",
    "    cursor.execute(\n",
    "        \"\"\"\n",
    "        CREATE VIEW top_five_wines_per_grape AS\n",
    "        WITH top_grapes AS (\n",
    "            SELECT g.id AS id, g.name AS grape, g.wines_count AS wines_count\n",
    "            FROM grapes AS g\n",
    "            ORDER BY g.wines_count DESC\n",
    "        ),\n",
    "        ranked_wines AS (\n",
    "            SELECT w.name AS wine, w.winery_id AS winery_id, w.grape_id, \n",
    "                   ROW_NUMBER() OVER(PARTITION BY w.grape_id ORDER BY w.ratings_average DESC) as rn\n",
    "            FROM wines AS w\n",
    "        )\n",
    "        SELECT tg.grape, rw.wine, wi.name AS winery\n",
    "        FROM top_grapes AS tg\n",
    "        JOIN ranked_wines AS rw ON tg.id = rw.grape_id\n",
    "        JOIN wineries AS wi ON rw.winery_id = wi.id\n",
    "        WHERE rw.rn <= 5\n",
    "        ORDER BY tg.wines_count DESC, rw.rn\n",
    "        \"\"\"\n",
    "    )\n",
    "    con.commit()\n",
    "    print(\"view created\")\n",
    "except Exception as e:\n",
    "    print(\"Error:\", e)\n",
    "    con.rollback()  # Rollback changes if an error occurs"
   ]
  },
  {
   "cell_type": "markdown",
   "metadata": {},
   "source": [
    "##### These are in case I need to make any changes, these delete the views so i can create new ones"
   ]
  },
  {
   "cell_type": "code",
   "execution_count": 4,
   "metadata": {},
   "outputs": [],
   "source": [
    "cursor.execute(\n",
    "    \"\"\"\n",
    "    DROP VIEW IF EXISTS country_priority\n",
    "    \"\"\"\n",
    ")\n",
    "con.commit()"
   ]
  },
  {
   "cell_type": "code",
   "execution_count": 5,
   "metadata": {},
   "outputs": [],
   "source": [
    "cursor.execute(\n",
    "    \"\"\"\n",
    "    DROP VIEW IF EXISTS top_five_wines_per_grape\n",
    "    \"\"\"\n",
    ")\n",
    "con.commit()"
   ]
  }
 ],
 "metadata": {
  "kernelspec": {
   "display_name": "Python 3",
   "language": "python",
   "name": "python3"
  },
  "language_info": {
   "codemirror_mode": {
    "name": "ipython",
    "version": 3
   },
   "file_extension": ".py",
   "mimetype": "text/x-python",
   "name": "python",
   "nbconvert_exporter": "python",
   "pygments_lexer": "ipython3",
   "version": "3.12.1"
  }
 },
 "nbformat": 4,
 "nbformat_minor": 2
}
