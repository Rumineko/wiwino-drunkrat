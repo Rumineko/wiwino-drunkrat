{
 "cells": [
  {
   "cell_type": "markdown",
   "metadata": {},
   "source": [
    "# Features"
   ]
  },
  {
   "cell_type": "markdown",
   "metadata": {},
   "source": [
    "## Question:We want to highlight 10 wines to increase our sales. Which ones should we choose and why? "
   ]
  },
  {
   "cell_type": "code",
   "execution_count": 2,
   "metadata": {},
   "outputs": [],
   "source": [
    "import sqlite3\n",
    "connexion = sqlite3.connect(\"../db/vivino.db\")\n",
    "cursor = connexion.cursor()"
   ]
  },
  {
   "cell_type": "code",
   "execution_count": 25,
   "metadata": {},
   "outputs": [
    {
     "name": "stdout",
     "output_type": "stream",
     "text": [
      "view created\n"
     ]
    }
   ],
   "source": [
    "try:\n",
    "    \n",
    "    cursor.execute(\"\"\"\n",
    "    CREATE VIEW top10_wines AS\n",
    "    SELECT w.name, ROUND((w.ratings_average + v.ratings_average), 3) AS total_score\n",
    "    FROM wines AS w\n",
    "    JOIN vintages AS v ON w.id = v.wine_id\n",
    "    JOIN wineries AS wi ON w.winery_id = wi.id\n",
    "    ORDER BY v.ratings_average DESC\n",
    "    LIMIT 10\n",
    "\"\"\")\n",
    "    connexion.commit()\n",
    "\n",
    "    print(\"view created\")\n",
    "except Exception as e:\n",
    "    print(\"Error:\", e)\n",
    "    connexion.rollback()  # Rollback changes if an error occurs"
   ]
  },
  {
   "cell_type": "code",
   "execution_count": 26,
   "metadata": {},
   "outputs": [
    {
     "data": {
      "text/plain": [
       "[(\"L'Extravagant de Doisy-Daëne Sauternes\", 9.5),\n",
       " ('Brunello di Montalcino Riserva', 9.5),\n",
       " ('Pauillac (Premier Grand Cru Classé)', 9.4),\n",
       " ('Clos du Mesnil', 9.5),\n",
       " ('Le Mesnil Blanc de Blancs (Cuvée S) Brut Champagne', 9.5),\n",
       " ('Amarone della Valpolicella Monte Lodoletta', 9.5),\n",
       " ('Harlan Estate Red', 9.5),\n",
       " ('Clos du Mesnil', 9.5),\n",
       " ('Vintage Port Nacional', 9.4),\n",
       " ('Pomerol', 9.5)]"
      ]
     },
     "execution_count": 26,
     "metadata": {},
     "output_type": "execute_result"
    }
   ],
   "source": [
    "\n",
    "cursor.execute(\"\"\"\n",
    "    SELECT *\n",
    "    from top10_wines                   \n",
    "\n",
    "\"\"\")\n",
    "cursor.fetchall()"
   ]
  },
  {
   "cell_type": "markdown",
   "metadata": {},
   "source": [
    "## Question2: We detected that a big cluster of customers likes a specific combination of tastes. We identified a few keywords that match these tastes: coffee, toast, green apple, cream, and citrus (note that these keywords are case sensitive ⚠️). We would like you to find all the wines that are related to these keywords. Check that at least 10 users confirm those keywords, to ensure the accuracy of the selection. Additionally, identify an appropriate group name for this cluster."
   ]
  },
  {
   "cell_type": "code",
   "execution_count": 43,
   "metadata": {},
   "outputs": [
    {
     "name": "stdout",
     "output_type": "stream",
     "text": [
      "view created\n"
     ]
    }
   ],
   "source": [
    "try:\n",
    "    cursor.execute(\"\"\"\n",
    "    CREATE VIEW top_keywords AS\n",
    "    SELECT w.name AS wine_name,\n",
    "        GROUP_CONCAT(DISTINCT k.name) AS keywords\n",
    "    FROM wines AS w\n",
    "    JOIN keywords_wine AS kw ON w.id = kw.wine_id\n",
    "    JOIN keywords AS k ON kw.keyword_id = k.id\n",
    "    WHERE k.name IN ('coffee', 'toast', 'green apple', 'cream', 'citrus')\n",
    "    GROUP BY w.name\n",
    "    HAVING MIN(kw.count) >= 10;\n",
    "    \"\"\")\n",
    "    connexion.commit()\n",
    "\n",
    "    print(\"view created\")\n",
    "except Exception as e:\n",
    "    print(\"Error:\", e)\n",
    "    connexion.rollback()  # Rollback changes if an error occurs"
   ]
  },
  {
   "cell_type": "code",
   "execution_count": 44,
   "metadata": {},
   "outputs": [
    {
     "data": {
      "text/plain": [
       "[('Almaviva', 'coffee,toast,cream'),\n",
       " (\"Avizoise Blanc de Blancs Extra Brut Champagne Grand Cru 'Avize'\",\n",
       "  'cream,toast,green apple,citrus'),\n",
       " ('Belle Epoque Brut Champagne', 'green apple,toast,coffee,citrus,cream'),\n",
       " ('Belondrade y Lurton', 'green apple,cream,toast,citrus'),\n",
       " ('Blanc des Millénaires', 'toast,coffee,cream,citrus,green apple'),\n",
       " (\"Bricco dell'Uccellone Barbera d'Asti\", 'coffee,toast,cream'),\n",
       " ('Brut Champagne', 'toast,coffee,cream,green apple,citrus'),\n",
       " ('CASK 23 Cabernet Sauvignon', 'coffee,toast,cream'),\n",
       " ('Campolongo di Torbe Amarone della Valpolicella Classico', 'coffee'),\n",
       " ('Chassagne-Montrachet', 'cream,toast,citrus,green apple'),\n",
       " ('Comtes de Champagne Blanc de Blancs',\n",
       "  'toast,coffee,cream,citrus,green apple'),\n",
       " ('Corton-Charlemagne Grand Cru Blanc', 'cream,toast,citrus,green apple'),\n",
       " ('Cristal Brut Champagne (Millésimé)',\n",
       "  'toast,coffee,green apple,citrus,cream'),\n",
       " ('Cuvée des Enchanteleurs Brut Champagne',\n",
       "  'toast,coffee,cream,green apple,citrus'),\n",
       " ('Dom Ruinart Blanc de Blancs Brut Champagne',\n",
       "  'toast,coffee,cream,green apple,citrus'),\n",
       " ('Flor de Pingus', 'coffee,toast,cream'),\n",
       " ('Gaia & Rey Langhe', 'cream,toast,green apple,citrus'),\n",
       " ('Grande Cuvée', 'toast,coffee,cream,citrus,green apple'),\n",
       " ('Harlequin', 'coffee'),\n",
       " ('La Grande Année Brut Champagne', 'toast,coffee,cream,green apple,citrus'),\n",
       " ('La Grande Dame Brut Champagne', 'toast,coffee,green apple,cream,citrus'),\n",
       " ('Le Mesnil Blanc de Blancs (Cuvée S) Brut Champagne',\n",
       "  'citrus,toast,coffee,cream,green apple'),\n",
       " ('Les Noisetiers', 'cream,toast,green apple,citrus'),\n",
       " ('Limited Edition 10 Vendemmie', 'coffee,cream'),\n",
       " ('MV', 'coffee,toast,green apple,cream,citrus'),\n",
       " ('One Sixteen Chardonnay', 'green apple,cream,toast,citrus'),\n",
       " ('Opus One', 'coffee,toast,cream,citrus'),\n",
       " ('P2 Plénitude Brut Champagne', 'toast,coffee,cream,green apple,citrus'),\n",
       " ('R.D Extra Brut Champagne (Récemment Dégorgé)',\n",
       "  'toast,coffee,cream,green apple,citrus'),\n",
       " ('Silex', 'citrus,green apple,cream,toast'),\n",
       " ('Sir Winston Churchill Brut Champagne',\n",
       "  'toast,coffee,cream,green apple,citrus'),\n",
       " ('Toscana Batar', 'cream,toast,green apple,citrus'),\n",
       " ('Vintage', 'toast,coffee,cream,green apple,citrus')]"
      ]
     },
     "execution_count": 44,
     "metadata": {},
     "output_type": "execute_result"
    }
   ],
   "source": [
    "\n",
    "cursor.execute(\"\"\"\n",
    "    SELECT *\n",
    "    from top_keywords                   \n",
    "\n",
    "\"\"\")\n",
    "cursor.fetchall()"
   ]
  }
 ],
 "metadata": {
  "kernelspec": {
   "display_name": "BeCodeEnv",
   "language": "python",
   "name": "python3"
  },
  "language_info": {
   "codemirror_mode": {
    "name": "ipython",
    "version": 3
   },
   "file_extension": ".py",
   "mimetype": "text/x-python",
   "name": "python",
   "nbconvert_exporter": "python",
   "pygments_lexer": "ipython3",
   "version": "3.12.2"
  }
 },
 "nbformat": 4,
 "nbformat_minor": 2
}
